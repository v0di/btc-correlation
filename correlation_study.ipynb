{
 "cells": [
  {
   "cell_type": "markdown",
   "id": "6c9c2966",
   "metadata": {},
   "source": [
    "# Pearson Correlation Coefficient between alt-coins and the Bitcoin."
   ]
  },
  {
   "cell_type": "markdown",
   "id": "492ee9f6",
   "metadata": {},
   "source": [
    "A simple data analysis in python using pandas (https://pandas.pydata.org/). The goal of this analysis is to determine the statistical distribution of the Pearson correlation coefficients (https://en.wikipedia.org/wiki/Pearson_correlation_coefficient) between most of the currently (Nov/2021) listed alt-coins in the Binance Crypto Exchange and the Bitcoin."
   ]
  },
  {
   "cell_type": "raw",
   "id": "06fd8bb3",
   "metadata": {},
   "source": [
    "Let us first import the libraries we are going to need:"
   ]
  },
  {
   "cell_type": "code",
   "execution_count": 1,
   "id": "69ec08af",
   "metadata": {},
   "outputs": [],
   "source": [
    "from datetime import datetime, timedelta\n",
    "\n",
    "from binance import Client, enums  # To connect to the Binance market data endpoint\n",
    "from matplotlib import pyplot as plt  # To plot the distribution\n",
    "import pandas as pd  # To process the data"
   ]
  },
  {
   "cell_type": "markdown",
   "id": "31ed1dc1",
   "metadata": {},
   "source": [
    "Let us now connect to the Binance API and get all the currently available pairs of (base)/USDT."
   ]
  },
  {
   "cell_type": "code",
   "execution_count": 2,
   "id": "5fc09f96",
   "metadata": {},
   "outputs": [],
   "source": [
    "client = Client()\n",
    "symbols_info = client.get_exchange_info()['symbols']\n",
    "symbols = [s['symbol'] for s in symbols_info if s['quoteAsset'] == 'USDT']"
   ]
  },
  {
   "cell_type": "markdown",
   "id": "ce3ec1e0",
   "metadata": {},
   "source": [
    "Let us see how many symbols we got and also see some of them:"
   ]
  },
  {
   "cell_type": "code",
   "execution_count": 3,
   "id": "8ae63b66",
   "metadata": {},
   "outputs": [
    {
     "name": "stdout",
     "output_type": "stream",
     "text": [
      "Total symbols: 346 | ['BTCUSDT', 'ETHUSDT', 'BNBUSDT', 'BCCUSDT', 'NEOUSDT']\n"
     ]
    }
   ],
   "source": [
    "print(f'Total symbols: {len(symbols)} |', symbols[:5])"
   ]
  },
  {
   "cell_type": "markdown",
   "id": "f1e9ac0b",
   "metadata": {},
   "source": [
    "The correlation we are looking for is that between the daily percentage change ((close - open)/open) of an alt-coin and that of the Bitcoin. To achieve this, we are now going to get the daily percentage change of the Bitcoin and then do the same to the alt-coins to find the correlation."
   ]
  },
  {
   "cell_type": "markdown",
   "id": "4d860410",
   "metadata": {},
   "source": [
    "We are going to use all the data from 365 days ago up 2021-11-01."
   ]
  },
  {
   "cell_type": "code",
   "execution_count": 4,
   "id": "1bb36d24",
   "metadata": {},
   "outputs": [
    {
     "name": "stdout",
     "output_type": "stream",
     "text": [
      "Data from 2020-11-01 up to 2021-11-01.\n"
     ]
    }
   ],
   "source": [
    "start_day = (datetime.now() - timedelta(days=365)).strftime(r'%Y-%m-%d')\n",
    "print(f'Data from {start_day} up to 2021-11-01.')"
   ]
  },
  {
   "cell_type": "markdown",
   "id": "055ba098",
   "metadata": {},
   "source": [
    "Let us create a function to clean up the data from the API and return the daily percentage change as a pandas Series:"
   ]
  },
  {
   "cell_type": "code",
   "execution_count": 5,
   "id": "fea9dcb2",
   "metadata": {},
   "outputs": [],
   "source": [
    "def daily_pct_change(symbol: str, start_date: str) -> pd.Series:\n",
    "    \"\"\"\n",
    "    Return the (symbol)'s daily percentage change from (start_date) up to now.\n",
    "        Parameters:\n",
    "                symbol: the pair (base)/(quote) [str]\n",
    "                start_date: get price data from start_date up to now [str]\n",
    "        Returns:\n",
    "                A pandas Series\n",
    "    \"\"\"\n",
    "    ohlcv = client.get_historical_klines(\n",
    "        symbol, enums.KLINE_INTERVAL_1DAY, start_date\n",
    "    )\n",
    "    change = [\n",
    "        (float(entry[4]) - float(entry[1]))/float(entry[1]) for entry in ohlcv\n",
    "    ]\n",
    "    #  entry[1]: open price | entry[4]: close price\n",
    "    \n",
    "    return pd.Series(change, dtype='float64')"
   ]
  },
  {
   "cell_type": "code",
   "execution_count": 6,
   "id": "947fbafd",
   "metadata": {},
   "outputs": [
    {
     "name": "stdout",
     "output_type": "stream",
     "text": [
      "0     -0.002139\n",
      "1     -0.015414\n",
      "2      0.034975\n",
      "3      0.008591\n",
      "4      0.102235\n",
      "         ...   \n",
      "361    0.037020\n",
      "362    0.027698\n",
      "363   -0.006337\n",
      "364   -0.009043\n",
      "365   -0.007938\n",
      "Length: 366, dtype: float64\n"
     ]
    }
   ],
   "source": [
    "btcusdt_changes = daily_pct_change('BTCUSDT', start_day)\n",
    "print(btcusdt_changes)\n",
    "#  0 is the furthest day and 366 is today."
   ]
  },
  {
   "cell_type": "markdown",
   "id": "c8639d20",
   "metadata": {},
   "source": [
    "Since we already have the daily percentage changes for BTCUSDT, let us remove this symbol from the list of symbols and then calculate the Pearson correlation coefficient between each of them and the BTCUSDT."
   ]
  },
  {
   "cell_type": "code",
   "execution_count": 7,
   "id": "27618463",
   "metadata": {},
   "outputs": [],
   "source": [
    "symbols.remove('BTCUSDT')"
   ]
  },
  {
   "cell_type": "code",
   "execution_count": 8,
   "id": "dfe8ca0f",
   "metadata": {},
   "outputs": [],
   "source": [
    "coeffs = {}\n",
    "for symbol in symbols:\n",
    "    symbol_changes = daily_pct_change(symbol, start_day)\n",
    "    coeffs[symbol] = btcusdt_changes.corr(symbol_changes, min_periods=300)\n",
    "coeffs = pd.Series(coeffs).dropna()"
   ]
  },
  {
   "cell_type": "markdown",
   "id": "79ac1f0c",
   "metadata": {},
   "source": [
    "Let us now sort the pandas Series in descending order and see the pairs that most positively correlate with Bitcoin and those that most negatively correlate with Bitcoin:"
   ]
  },
  {
   "cell_type": "code",
   "execution_count": 9,
   "id": "392c54df",
   "metadata": {},
   "outputs": [
    {
     "name": "stdout",
     "output_type": "stream",
     "text": [
      "BTCUPUSDT      0.991306\n",
      "LTCUSDT        0.766276\n",
      "LTCUPUSDT      0.764553\n",
      "ETHUSDT        0.745077\n",
      "ETHUPUSDT      0.740586\n",
      "                 ...   \n",
      "TRXDOWNUSDT   -0.606683\n",
      "EOSDOWNUSDT   -0.620988\n",
      "ETHDOWNUSDT   -0.637220\n",
      "LTCDOWNUSDT   -0.651752\n",
      "BTCDOWNUSDT   -0.975012\n",
      "Length: 222, dtype: float64\n"
     ]
    }
   ],
   "source": [
    "coeffs.sort_values(ascending=False, inplace=True)\n",
    "print(coeffs)"
   ]
  },
  {
   "cell_type": "markdown",
   "id": "4d0b28c9",
   "metadata": {},
   "source": [
    "Finally, let us plot the distribuition:"
   ]
  },
  {
   "cell_type": "code",
   "execution_count": 10,
   "id": "767793ad",
   "metadata": {},
   "outputs": [
    {
     "data": {
      "image/png": "[encoded data removed]",
      "text/plain": [
       "<Figure size 432x288 with 1 Axes>"
      ]
     },
     "metadata": {
      "needs_background": "light"
     },
     "output_type": "display_data"
    }
   ],
   "source": [
    "dist = plt.hist(coeffs, bins=50)"
   ]
  },
  {
   "cell_type": "markdown",
   "id": "b2172b48",
   "metadata": {},
   "source": [
    "As there seem to be outliers in the dataset, let us calculate the median of the distribution as the center of the data:"
   ]
  },
  {
   "cell_type": "code",
   "execution_count": 11,
   "id": "2a94db89",
   "metadata": {},
   "outputs": [
    {
     "name": "stdout",
     "output_type": "stream",
     "text": [
      "median: 0.4773181169110403\n"
     ]
    }
   ],
   "source": [
    "median = coeffs.median()\n",
    "print('median:', median)"
   ]
  },
  {
   "cell_type": "markdown",
   "id": "cd125b68",
   "metadata": {},
   "source": [
    "# Conclusion"
   ]
  },
  {
   "cell_type": "markdown",
   "id": "2b0354f2",
   "metadata": {},
   "source": [
    "In this brief analysis, we calculated the Pearson correlation coefficients between 222 alt-coins and the Bitcoin. We fetched one year worth of data from the Binance Exchange API. We plotted the distribution of the coefficients and arrived at a value of approximately 0.477 for the median. Therefore, we conclude that most of the alt-coins had a positive correlation of 47.7% with the Bitcoin in the past year."
   ]
  },
  {
   "cell_type": "code",
   "execution_count": null,
   "id": "7714880a",
   "metadata": {},
   "outputs": [],
   "source": []
  }
 ],
 "metadata": {
  "kernelspec": {
   "display_name": "Python 3 (ipykernel)",
   "language": "python",
   "name": "python3"
  },
  "language_info": {
   "codemirror_mode": {
    "name": "ipython",
    "version": 3
   },
   "file_extension": ".py",
   "mimetype": "text/x-python",
   "name": "python",
   "nbconvert_exporter": "python",
   "pygments_lexer": "ipython3",
   "version": "3.9.7"
  }
 },
 "nbformat": 4,
 "nbformat_minor": 5
}
